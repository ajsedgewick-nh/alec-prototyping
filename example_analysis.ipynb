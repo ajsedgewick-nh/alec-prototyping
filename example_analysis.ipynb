{
 "cells": [
  {
   "cell_type": "code",
   "execution_count": 1,
   "metadata": {},
   "outputs": [],
   "source": [
    "import pandas as pd\n",
    "import numpy as np\n",
    "import seaborn as sns\n",
    "import matplotlib.pyplot as plt\n",
    "import networkx as nx\n",
    "import community as louvain\n",
    "\n",
    "from alec_utils import *\n",
    "from scipy.spatial.distance import squareform\n",
    "from sklearn.cluster import *\n",
    "from sklearn import metrics\n",
    "from sklearn.neighbors import NearestNeighbors"
   ]
  },
  {
   "cell_type": "code",
   "execution_count": 2,
   "metadata": {},
   "outputs": [
    {
     "name": "stdout",
     "output_type": "stream",
     "text": [
      "(1285606, 15)\n"
     ]
    },
    {
     "data": {
      "text/html": [
       "<div>\n",
       "<style scoped>\n",
       "    .dataframe tbody tr th:only-of-type {\n",
       "        vertical-align: middle;\n",
       "    }\n",
       "\n",
       "    .dataframe tbody tr th {\n",
       "        vertical-align: top;\n",
       "    }\n",
       "\n",
       "    .dataframe thead th {\n",
       "        text-align: right;\n",
       "    }\n",
       "</style>\n",
       "<table border=\"1\" class=\"dataframe\">\n",
       "  <thead>\n",
       "    <tr style=\"text-align: right;\">\n",
       "      <th></th>\n",
       "      <th>id_a</th>\n",
       "      <th>id_b</th>\n",
       "      <th>type_a</th>\n",
       "      <th>type_b</th>\n",
       "      <th>time_a</th>\n",
       "      <th>time_b</th>\n",
       "      <th>same_instance</th>\n",
       "      <th>same_parent</th>\n",
       "      <th>share_ancestor</th>\n",
       "      <th>time_delta_seconds</th>\n",
       "      <th>distance_on_graph</th>\n",
       "      <th>distance_in_st</th>\n",
       "      <th>io_id_similarity</th>\n",
       "      <th>io_label_similarity</th>\n",
       "      <th>related</th>\n",
       "    </tr>\n",
       "  </thead>\n",
       "  <tbody>\n",
       "    <tr>\n",
       "      <th>0</th>\n",
       "      <td>4516675</td>\n",
       "      <td>4516676</td>\n",
       "      <td>SnmpInterface</td>\n",
       "      <td>SnmpInterface</td>\n",
       "      <td>1541292527000</td>\n",
       "      <td>1541292527000</td>\n",
       "      <td>1</td>\n",
       "      <td>1</td>\n",
       "      <td>1</td>\n",
       "      <td>0.0</td>\n",
       "      <td>0.000000e+00</td>\n",
       "      <td>0.000000e+00</td>\n",
       "      <td>0.00</td>\n",
       "      <td>-1.0</td>\n",
       "      <td>1</td>\n",
       "    </tr>\n",
       "    <tr>\n",
       "      <th>1</th>\n",
       "      <td>4516675</td>\n",
       "      <td>4516678</td>\n",
       "      <td>SnmpInterface</td>\n",
       "      <td>SnmpInterface</td>\n",
       "      <td>1541292527000</td>\n",
       "      <td>1541292592000</td>\n",
       "      <td>0</td>\n",
       "      <td>0</td>\n",
       "      <td>0</td>\n",
       "      <td>65000.0</td>\n",
       "      <td>2.147484e+09</td>\n",
       "      <td>1.388125e+09</td>\n",
       "      <td>0.25</td>\n",
       "      <td>-1.0</td>\n",
       "      <td>0</td>\n",
       "    </tr>\n",
       "    <tr>\n",
       "      <th>2</th>\n",
       "      <td>4516675</td>\n",
       "      <td>4516679</td>\n",
       "      <td>SnmpInterface</td>\n",
       "      <td>SnmpInterface</td>\n",
       "      <td>1541292527000</td>\n",
       "      <td>1541292592000</td>\n",
       "      <td>0</td>\n",
       "      <td>0</td>\n",
       "      <td>0</td>\n",
       "      <td>65000.0</td>\n",
       "      <td>2.147484e+09</td>\n",
       "      <td>1.388125e+09</td>\n",
       "      <td>0.25</td>\n",
       "      <td>-1.0</td>\n",
       "      <td>0</td>\n",
       "    </tr>\n",
       "    <tr>\n",
       "      <th>3</th>\n",
       "      <td>4516675</td>\n",
       "      <td>4516683</td>\n",
       "      <td>SnmpInterface</td>\n",
       "      <td>SnmpInterface</td>\n",
       "      <td>1541292527000</td>\n",
       "      <td>1541292883000</td>\n",
       "      <td>0</td>\n",
       "      <td>0</td>\n",
       "      <td>0</td>\n",
       "      <td>356000.0</td>\n",
       "      <td>2.147484e+09</td>\n",
       "      <td>1.388125e+09</td>\n",
       "      <td>0.25</td>\n",
       "      <td>-1.0</td>\n",
       "      <td>0</td>\n",
       "    </tr>\n",
       "    <tr>\n",
       "      <th>4</th>\n",
       "      <td>4516675</td>\n",
       "      <td>4516684</td>\n",
       "      <td>SnmpInterface</td>\n",
       "      <td>SnmpInterface</td>\n",
       "      <td>1541292527000</td>\n",
       "      <td>1541292883000</td>\n",
       "      <td>0</td>\n",
       "      <td>0</td>\n",
       "      <td>0</td>\n",
       "      <td>356000.0</td>\n",
       "      <td>2.147484e+09</td>\n",
       "      <td>1.388125e+09</td>\n",
       "      <td>0.25</td>\n",
       "      <td>-1.0</td>\n",
       "      <td>0</td>\n",
       "    </tr>\n",
       "  </tbody>\n",
       "</table>\n",
       "</div>"
      ],
      "text/plain": [
       "      id_a     id_b         type_a         type_b         time_a  \\\n",
       "0  4516675  4516676  SnmpInterface  SnmpInterface  1541292527000   \n",
       "1  4516675  4516678  SnmpInterface  SnmpInterface  1541292527000   \n",
       "2  4516675  4516679  SnmpInterface  SnmpInterface  1541292527000   \n",
       "3  4516675  4516683  SnmpInterface  SnmpInterface  1541292527000   \n",
       "4  4516675  4516684  SnmpInterface  SnmpInterface  1541292527000   \n",
       "\n",
       "          time_b  same_instance  same_parent  share_ancestor  \\\n",
       "0  1541292527000              1            1               1   \n",
       "1  1541292592000              0            0               0   \n",
       "2  1541292592000              0            0               0   \n",
       "3  1541292883000              0            0               0   \n",
       "4  1541292883000              0            0               0   \n",
       "\n",
       "   time_delta_seconds  distance_on_graph  distance_in_st  io_id_similarity  \\\n",
       "0                 0.0       0.000000e+00    0.000000e+00              0.00   \n",
       "1             65000.0       2.147484e+09    1.388125e+09              0.25   \n",
       "2             65000.0       2.147484e+09    1.388125e+09              0.25   \n",
       "3            356000.0       2.147484e+09    1.388125e+09              0.25   \n",
       "4            356000.0       2.147484e+09    1.388125e+09              0.25   \n",
       "\n",
       "   io_label_similarity  related  \n",
       "0                 -1.0        1  \n",
       "1                 -1.0        0  \n",
       "2                 -1.0        0  \n",
       "3                 -1.0        0  \n",
       "4                 -1.0        0  "
      ]
     },
     "execution_count": 2,
     "metadata": {},
     "output_type": "execute_result"
    }
   ],
   "source": [
    "df = pd.read_csv(\"../OCE_test_data/vectorized_oce_data.csv\")\n",
    "print(df.shape)\n",
    "df.head()"
   ]
  },
  {
   "cell_type": "markdown",
   "metadata": {},
   "source": [
    "# Load clusters from ALEC\n",
    "cpn_situations is the \"gold standard\"\n",
    "\n",
    "oce_situations is produced by the ALEC DBSCAN engine"
   ]
  },
  {
   "cell_type": "code",
   "execution_count": 6,
   "metadata": {},
   "outputs": [],
   "source": [
    "cpn_situations = read_xml_clusters('../OCE_test_data/cpn.situations.xml')\n",
    "oce_situations = read_xml_clusters('../alec_docker/xml/oce.situations.xml')"
   ]
  },
  {
   "cell_type": "markdown",
   "metadata": {},
   "source": [
    "# Add singletons into alec clusters"
   ]
  },
  {
   "cell_type": "code",
   "execution_count": 7,
   "metadata": {},
   "outputs": [
    {
     "data": {
      "text/plain": [
       "99"
      ]
     },
     "execution_count": 7,
     "metadata": {},
     "output_type": "execute_result"
    }
   ],
   "source": [
    "missing_alarms = list(set(cpn_situations['id']).difference(set(oce_situations['id'])))\n",
    "len(missing_alarms)"
   ]
  },
  {
   "cell_type": "code",
   "execution_count": 8,
   "metadata": {},
   "outputs": [],
   "source": [
    "#alec dbscan doesn't output singletons, so is performance better if we add missing alarms as singletons?\n",
    "oce_situations_sing = oce_situations.copy()\n",
    "oce_situations_sing = oce_situations_sing.append(pd.DataFrame({'id':missing_alarms, 'cluster':missing_alarms}))"
   ]
  },
  {
   "cell_type": "code",
   "execution_count": null,
   "metadata": {},
   "outputs": [],
   "source": []
  },
  {
   "cell_type": "markdown",
   "metadata": {},
   "source": [
    "# Run other clustering algorithms"
   ]
  },
  {
   "cell_type": "code",
   "execution_count": 9,
   "metadata": {},
   "outputs": [],
   "source": [
    "pairdist = df.loc[:,['id_a', 'id_b', 'distance_in_st']].sort_values(by=['id_a', 'id_b'])\n",
    "distraw = squareform(pairdist['distance_in_st'])"
   ]
  },
  {
   "cell_type": "code",
   "execution_count": 11,
   "metadata": {},
   "outputs": [
    {
     "data": {
      "text/plain": [
       "1604"
      ]
     },
     "execution_count": 11,
     "metadata": {},
     "output_type": "execute_result"
    }
   ],
   "source": [
    "alarmids = np.unique(pairdist['id_a'].values.tolist() + pairdist['id_b'].values.tolist())\n",
    "alarmids = [str(x) for x in alarmids]\n",
    "len(alarmids)"
   ]
  },
  {
   "cell_type": "code",
   "execution_count": 12,
   "metadata": {},
   "outputs": [],
   "source": [
    "dbscan_clustering = DBSCAN(eps=100,min_samples=1,metric='precomputed').fit(distraw)\n",
    "dbscan_situations = pd.DataFrame({'id':alarmids, \n",
    "                        'cluster':dbscan_clustering.labels_})"
   ]
  },
  {
   "cell_type": "code",
   "execution_count": 13,
   "metadata": {},
   "outputs": [
    {
     "name": "stdout",
     "output_type": "stream",
     "text": [
      "Name: \n",
      "Type: Graph\n",
      "Number of nodes: 1604\n",
      "Number of edges: 16646\n",
      "Average degree:  20.7556\n"
     ]
    }
   ],
   "source": [
    "G = nx.from_numpy_matrix((distraw < 500)) #& (timemat < 90000))\n",
    "print(nx.info(G))\n",
    "louvain_clustering = louvain.best_partition(G)\n",
    "louvain_situations = pd.DataFrame({'id':alarmids, \n",
    "                       'cluster':list(louvain_clustering.values())})"
   ]
  },
  {
   "cell_type": "markdown",
   "metadata": {},
   "source": [
    "# Score cluster assignments against CPN and plot"
   ]
  },
  {
   "cell_type": "code",
   "execution_count": 15,
   "metadata": {},
   "outputs": [
    {
     "name": "stdout",
     "output_type": "stream",
     "text": [
      "(1505, 2)\n",
      "(1604, 2)\n",
      "(1604, 2)\n",
      "(1604, 2)\n"
     ]
    }
   ],
   "source": [
    "scoredf = pd.DataFrame([score_clusters(cpn_situations, oce_situations),\n",
    "                        score_clusters(cpn_situations, oce_situations_sing),\n",
    "                       score_clusters(cpn_situations, dbscan_situations),\n",
    "                       score_clusters(cpn_situations, louvain_situations)])\n",
    "scoredf['alg'] = ['DBSCANoce', 'DBSCANoce_sing','DBSCANpy', 'louvain']"
   ]
  },
  {
   "cell_type": "code",
   "execution_count": 16,
   "metadata": {},
   "outputs": [],
   "source": [
    "scoredf = pd.melt(scoredf, id_vars=['alg'])"
   ]
  },
  {
   "cell_type": "code",
   "execution_count": 17,
   "metadata": {},
   "outputs": [
    {
     "data": {
      "text/plain": [
       "Text(12.79251302083334, 0.5, 'Value')"
      ]
     },
     "execution_count": 17,
     "metadata": {},
     "output_type": "execute_result"
    },
    {
     "data": {
      "image/png": "[encoded data removed]",
      "text/plain": [
       "<Figure size 508.875x432 with 1 Axes>"
      ]
     },
     "metadata": {
      "needs_background": "light"
     },
     "output_type": "display_data"
    }
   ],
   "source": [
    "g = sns.catplot(\n",
    "    data=scoredf, kind=\"bar\",\n",
    "    x=\"alg\", y=\"value\", hue='variable', palette=\"dark\", alpha=.6, height=6\n",
    ")\n",
    "plt.xticks(\n",
    "    rotation=45, \n",
    "    horizontalalignment='right',\n",
    "    fontweight='light',\n",
    "    fontsize='x-large'  \n",
    ")\n",
    "plt.xlabel('Algorithm', fontsize=18)\n",
    "plt.ylabel('Value', fontsize=16)"
   ]
  },
  {
   "cell_type": "code",
   "execution_count": null,
   "metadata": {},
   "outputs": [],
   "source": []
  },
  {
   "cell_type": "code",
   "execution_count": 18,
   "metadata": {},
   "outputs": [
    {
     "data": {
      "text/plain": [
       "<AxesSubplot:ylabel='Count'>"
      ]
     },
     "execution_count": 18,
     "metadata": {},
     "output_type": "execute_result"
    },
    {
     "data": {
      "image/png": "[encoded data removed]",
      "text/plain": [
       "<Figure size 432x288 with 1 Axes>"
      ]
     },
     "metadata": {
      "needs_background": "light"
     },
     "output_type": "display_data"
    }
   ],
   "source": [
    "u,c = np.unique(louvain_situations['cluster'], return_counts=True)\n",
    "#sns.histplot(c)\n",
    "sns.histplot(c[c<12])"
   ]
  },
  {
   "cell_type": "code",
   "execution_count": 19,
   "metadata": {},
   "outputs": [
    {
     "data": {
      "text/plain": [
       "<AxesSubplot:ylabel='Count'>"
      ]
     },
     "execution_count": 19,
     "metadata": {},
     "output_type": "execute_result"
    },
    {
     "data": {
      "image/png": "[encoded data removed]",
      "text/plain": [
       "<Figure size 432x288 with 1 Axes>"
      ]
     },
     "metadata": {
      "needs_background": "light"
     },
     "output_type": "display_data"
    }
   ],
   "source": [
    "sns.histplot(c)"
   ]
  },
  {
   "cell_type": "code",
   "execution_count": null,
   "metadata": {},
   "outputs": [],
   "source": []
  }
 ],
 "metadata": {
  "kernelspec": {
   "display_name": "Python 3",
   "language": "python",
   "name": "python3"
  },
  "language_info": {
   "codemirror_mode": {
    "name": "ipython",
    "version": 3
   },
   "file_extension": ".py",
   "mimetype": "text/x-python",
   "name": "python",
   "nbconvert_exporter": "python",
   "pygments_lexer": "ipython3",
   "version": "3.8.5"
  }
 },
 "nbformat": 4,
 "nbformat_minor": 4
}
